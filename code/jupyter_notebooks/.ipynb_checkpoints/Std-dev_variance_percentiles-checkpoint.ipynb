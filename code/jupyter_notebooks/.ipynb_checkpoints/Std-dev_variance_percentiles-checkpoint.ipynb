{
 "cells": [
  {
   "cell_type": "markdown",
   "metadata": {},
   "source": [
    "### Standard Deviation and Variance from Numpy library"
   ]
  },
  {
   "cell_type": "code",
   "execution_count": 2,
   "metadata": {},
   "outputs": [],
   "source": [
    "import numpy as np"
   ]
  },
  {
   "cell_type": "code",
   "execution_count": 6,
   "metadata": {},
   "outputs": [
    {
     "data": {
      "text/plain": [
       "23.0"
      ]
     },
     "execution_count": 6,
     "metadata": {},
     "output_type": "execute_result"
    }
   ],
   "source": [
    "a = np.array([15, 16, 18, 19, 22, 24, 29, 30, 34])\n",
    "np.mean(a)"
   ]
  },
  {
   "cell_type": "code",
   "execution_count": 7,
   "metadata": {},
   "outputs": [
    {
     "data": {
      "text/plain": [
       "40.22222222222222"
      ]
     },
     "execution_count": 7,
     "metadata": {},
     "output_type": "execute_result"
    }
   ],
   "source": [
    "np.var(a)"
   ]
  },
  {
   "cell_type": "code",
   "execution_count": 8,
   "metadata": {},
   "outputs": [
    {
     "data": {
      "text/plain": [
       "6.342099196813483"
      ]
     },
     "execution_count": 8,
     "metadata": {},
     "output_type": "execute_result"
    }
   ],
   "source": [
    "np.std(a)"
   ]
  },
  {
   "cell_type": "code",
   "execution_count": 9,
   "metadata": {},
   "outputs": [
    {
     "name": "stdout",
     "output_type": "stream",
     "text": [
      "mean: 23.0\n",
      "median: 22.0\n",
      "50th percentile (median): 22.0\n",
      "25th percentile: 18.0\n",
      "75th percentile: 29.0\n"
     ]
    }
   ],
   "source": [
    "print(\"mean:\", np.mean(a))\n",
    "print(\"median:\", np.median(a))\n",
    "print(\"50th percentile (median):\", np.percentile(a, 50))\n",
    "print(\"25th percentile:\", np.percentile(a, 25))\n",
    "print(\"75th percentile:\", np.percentile(a, 75))"
   ]
  },
  {
   "cell_type": "markdown",
   "metadata": {},
   "source": [
    "### Implementation from scratch"
   ]
  },
  {
   "cell_type": "code",
   "execution_count": 13,
   "metadata": {},
   "outputs": [
    {
     "data": {
      "text/plain": [
       "'\\nSteps to implement : \\n1. input a list of numbers\\n2. calculate the mean of numbers\\n3. calculate the distance from mean : subtract the mean value from each number in the list\\n4. calculate variance : sum of all squares of distances / count of numbers\\n5. calculate standard deviation : squareroot of variance\\n'"
      ]
     },
     "execution_count": 13,
     "metadata": {},
     "output_type": "execute_result"
    }
   ],
   "source": [
    "'''\n",
    "Steps to implement : \n",
    "1. input a list of numbers\n",
    "2. calculate the mean of numbers\n",
    "3. calculate the distance from mean : subtract the mean value from each number in the list\n",
    "4. calculate variance : sum of all squares of distances / count of numbers\n",
    "5. calculate standard deviation : squareroot of variance\n",
    "'''"
   ]
  },
  {
   "cell_type": "code",
   "execution_count": 14,
   "metadata": {},
   "outputs": [],
   "source": [
    "from math import sqrt\n",
    "\n",
    "def mean(numbers):\n",
    "    numbers_sum = 0\n",
    "\n",
    "    for (count, number) in enumerate(numbers, start=1):\n",
    "        numbers_sum = number + numbers_sum\n",
    "    mean = numbers_sum / count    \n",
    "    \n",
    "    return mean\n",
    "\n",
    "def distances_from_mean(mean, numbers):\n",
    "    distances = []\n",
    "    \n",
    "    for number in numbers:\n",
    "        distances.append(abs(number - mean))\n",
    "        \n",
    "    return distances\n",
    "    \n",
    "def variance(distances, numbers_count):\n",
    "    distance_squares_sum = 0\n",
    "    \n",
    "    for distance in distances:\n",
    "        distance_square = distance * distance\n",
    "        distance_squares_sum = distance_squares_sum + distance_square\n",
    "        \n",
    "    variance = distance_squares_sum / numbers_count\n",
    "    return variance\n",
    "\n",
    "def standard_deviation(variance):\n",
    "    return sqrt(variance)"
   ]
  },
  {
   "cell_type": "code",
   "execution_count": 15,
   "metadata": {},
   "outputs": [],
   "source": [
    "numbers = [15, 16, 18, 19, 22, 24, 29, 30, 34]\n",
    "numbers_count = len(numbers)\n",
    "\n",
    "mean_value = mean(numbers)\n",
    "distances_list = distances_from_mean(mean_value, numbers)\n",
    "variance_value = variance(distances_list, numbers_count)\n",
    "standard_deviation_value = standard_deviation(variance_value)"
   ]
  },
  {
   "cell_type": "code",
   "execution_count": 16,
   "metadata": {},
   "outputs": [
    {
     "name": "stdout",
     "output_type": "stream",
     "text": [
      "mean: 23.0\n",
      "distances_list: [8.0, 7.0, 5.0, 4.0, 1.0, 1.0, 6.0, 7.0, 11.0]\n",
      "variance :  40.22222222222222\n",
      "standard deviation :  6.342099196813483\n"
     ]
    }
   ],
   "source": [
    "print(\"mean: \" + str(mean_value))\n",
    "print(\"distances_list: \" + str(distances_list))\n",
    "print(\"variance : \", variance_value)\n",
    "print(\"standard deviation : \", standard_deviation_value)\n",
    "\n",
    "# distances_list, variance_value, standard_deviation_value)"
   ]
  }
 ],
 "metadata": {
  "kernelspec": {
   "display_name": "Python 3",
   "language": "python",
   "name": "python3"
  },
  "language_info": {
   "codemirror_mode": {
    "name": "ipython",
    "version": 3
   },
   "file_extension": ".py",
   "mimetype": "text/x-python",
   "name": "python",
   "nbconvert_exporter": "python",
   "pygments_lexer": "ipython3",
   "version": "3.7.3"
  }
 },
 "nbformat": 4,
 "nbformat_minor": 2
}
